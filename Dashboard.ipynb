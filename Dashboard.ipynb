{
 "cells": [
  {
   "cell_type": "markdown",
   "metadata": {},
   "source": [
    "## RBNZ Bank Financial Strength Dashboard data app\n",
    "\n",
    "The Financail Strength Dashboard is a great iniative of the RBNZ. It allows you to retrieve many data points from NZ banks on a quarterly basis.\n",
    "\n",
    "The Reserve bank posts a spreadsheet on its web-site, which the scripts below then use for analysis. \n",
    "\n",
    "See this post for the grahps it produces: https://capitalissues.co/2018/11/27/updated-nz-capital-ratios/\n",
    "\n",
    "Below are some code snippets to manage the RBNZ Bank Financial Strength Dashboard data.\n",
    "\n",
    "### Where to find the data:\n",
    "\n",
    "Go to: https://bankdashboard.rbnz.govt.nz/summary\n",
    "\n",
    "Download the Excel file, via the link in the upper right corner of the site."
   ]
  },
  {
   "cell_type": "code",
   "execution_count": 1,
   "metadata": {},
   "outputs": [],
   "source": [
    "import os\n",
    "import pandas as pd\n",
    "import re\n",
    "import numpy as np\n",
    "import matplotlib.pyplot as plt\n",
    "import seaborn as sns\n",
    "pd.set_option('display.max_columns', None)"
   ]
  },
  {
   "cell_type": "code",
   "execution_count": 2,
   "metadata": {},
   "outputs": [],
   "source": [
    "# To clean the series names\n",
    "def fun(s):\n",
    "    s = re.sub('\\%', ' pct ', s)\n",
    "    s = re.sub('\\(.*\\)', '', s)\n",
    "    s = re.sub('[<>=\\*\\/]', '', s)\n",
    "    s = re.sub('\\s+', ' ', s)\n",
    "    return(s)"
   ]
  },
  {
   "cell_type": "code",
   "execution_count": 3,
   "metadata": {},
   "outputs": [],
   "source": [
    "# Generate a nice dataframe, select a month and year\n",
    "def dash_data(fn, year, month):\n",
    "    df = pd.read_excel(fn, sheet_name ='Data', skiprows=range(0,4), index_col=1)\n",
    "    dfe= pd.read_excel(fn, sheet_name ='Series Definitions' , usecols = 2)[['Series Id', 'Series']]\n",
    "    dfe['Series'] = dfe['Series'].apply(fun).str.strip()\n",
    "    dfe['Code'], dfe['Series'] = dfe['Series'].str.split(' ', 1).str\n",
    "    dfe['Code'] = dfe.Code.str.replace('.' , '')\n",
    "    if month != 0:\n",
    "        df = df.loc[(df['Series Id'].dt.month==month) & (df['Series Id'].dt.year==year)]\n",
    "    df = df.rename(index=str, columns=dfe.set_index('Series Id')['Series'].to_dict())\n",
    "    df = df.rename(index=str, columns={'Series Id': 'Date'})\n",
    "    df.dropna(subset=['Total capital ratio'], inplace=True)  # ignore banks without TCR\n",
    "    return(df)"
   ]
  },
  {
   "cell_type": "code",
   "execution_count": 4,
   "metadata": {},
   "outputs": [],
   "source": [
    "# Get the data for September 2018, month = 9\n",
    "# Set month to 0 for full panel\n",
    "year, month = 2018, 9\n",
    "fn = 'Bank-Financial-Strength-Dashboard-Data_Sept.xlsx'\n",
    "df = dash_data(fn, year, month)"
   ]
  },
  {
   "cell_type": "code",
   "execution_count": 5,
   "metadata": {},
   "outputs": [
    {
     "data": {
      "text/html": [
       "<div>\n",
       "<style scoped>\n",
       "    .dataframe tbody tr th:only-of-type {\n",
       "        vertical-align: middle;\n",
       "    }\n",
       "\n",
       "    .dataframe tbody tr th {\n",
       "        vertical-align: top;\n",
       "    }\n",
       "\n",
       "    .dataframe thead th {\n",
       "        text-align: right;\n",
       "    }\n",
       "</style>\n",
       "<table border=\"1\" class=\"dataframe\">\n",
       "  <thead>\n",
       "    <tr style=\"text-align: right;\">\n",
       "      <th></th>\n",
       "      <th>Series Id</th>\n",
       "      <th>Series</th>\n",
       "    </tr>\n",
       "  </thead>\n",
       "  <tbody>\n",
       "    <tr>\n",
       "      <th>0</th>\n",
       "      <td>DBB.QIA10</td>\n",
       "      <td>A1. S&amp;P Global</td>\n",
       "    </tr>\n",
       "    <tr>\n",
       "      <th>1</th>\n",
       "      <td>DBB.QIA20</td>\n",
       "      <td>A2. Fitch</td>\n",
       "    </tr>\n",
       "    <tr>\n",
       "      <th>2</th>\n",
       "      <td>DBB.QIA30</td>\n",
       "      <td>A3. Moody's</td>\n",
       "    </tr>\n",
       "    <tr>\n",
       "      <th>3</th>\n",
       "      <td>DBB.QIB10</td>\n",
       "      <td>C1. Total capital ratio</td>\n",
       "    </tr>\n",
       "    <tr>\n",
       "      <th>4</th>\n",
       "      <td>DBB.QIB12</td>\n",
       "      <td>C2. CET1 capital ratio</td>\n",
       "    </tr>\n",
       "  </tbody>\n",
       "</table>\n",
       "</div>"
      ],
      "text/plain": [
       "   Series Id                    Series\n",
       "0  DBB.QIA10            A1. S&P Global\n",
       "1  DBB.QIA20                 A2. Fitch\n",
       "2  DBB.QIA30               A3. Moody's\n",
       "3  DBB.QIB10  C1. Total capital ratio \n",
       "4  DBB.QIB12   C2. CET1 capital ratio "
      ]
     },
     "execution_count": 5,
     "metadata": {},
     "output_type": "execute_result"
    }
   ],
   "source": [
    "dfe= pd.read_excel(fn, sheet_name ='Series Definitions' , usecols = 2)[['Series Id', 'Series']]\n",
    "dfe.head()"
   ]
  },
  {
   "cell_type": "code",
   "execution_count": 6,
   "metadata": {},
   "outputs": [],
   "source": [
    "df.to_excel('dash_data.xls', index=False)"
   ]
  },
  {
   "cell_type": "code",
   "execution_count": 7,
   "metadata": {},
   "outputs": [],
   "source": [
    "# Function to create a table of aggregated data, in LaTex\n",
    "def dash_table(df, varlist):\n",
    "    dfw = df[varlist].fillna(0)\n",
    "    som = dfw[varlist].sum() \n",
    "    rwa = som['Total RWAs']\n",
    "    som_rwa = som/rwa\n",
    "    som   = som.to_frame(name='summed').join(som_rwa.to_frame(name='ratios'))\n",
    "    table = som.copy()\n",
    "    table['Summed values'] = ['{:,.0f}'.format(x) for x in table['summed']]\n",
    "    table['Ratios'] = ['{:,.2f}'.format(x) for x in table['ratios']*100]\n",
    "    print(table[['Summed values', 'Ratios']].to_latex())\n",
    "    return(som, table)"
   ]
  },
  {
   "cell_type": "code",
   "execution_count": 8,
   "metadata": {},
   "outputs": [
    {
     "name": "stdout",
     "output_type": "stream",
     "text": [
      "\\begin{tabular}{lll}\n",
      "\\toprule\n",
      "{} & Summed values &  Ratios \\\\\n",
      "\\midrule\n",
      "Equity                        &        41,363 &   13.97 \\\\\n",
      "CET1 capital                  &        39,484 &   13.34 \\\\\n",
      "CET1 deductions               &         5,871 &    1.98 \\\\\n",
      "Net CET1                      &        33,614 &   11.35 \\\\\n",
      "Additional Tier 1 instruments &         6,326 &    2.14 \\\\\n",
      "Total Tier 1 capital          &        39,940 &   13.49 \\\\\n",
      "Tier 2 instruments            &         3,301 &    1.11 \\\\\n",
      "Total capital                 &        43,241 &   14.60 \\\\\n",
      "Total RWAs                    &       296,092 &  100.00 \\\\\n",
      "\\bottomrule\n",
      "\\end{tabular}\n",
      "\n"
     ]
    }
   ],
   "source": [
    "# Create a table of aggregated data, in Latex\n",
    "varlist = ['Equity', 'CET1 capital', 'CET1 deductions','Net CET1', 'Additional Tier 1 instruments', 'Total Tier 1 capital', 'Tier 2 instruments', 'Total capital', 'Total RWAs']\n",
    "som, table = dash_table(df, varlist)"
   ]
  },
  {
   "cell_type": "code",
   "execution_count": 9,
   "metadata": {},
   "outputs": [],
   "source": [
    "# Function to single out the big banks\n",
    "# thresh -> minimum RWA in $m\n",
    "def bigbanks(df, thresh):\n",
    "    dfb = df[['Net CET1', 'Total RWAs']].copy()\n",
    "    dfb[\"CET1_ratio\"] = dfb['Net CET1'].div(dfb['Total RWAs'])*100\n",
    "    dfb[\"Size\"] = np.log(dfb['Total RWAs'])\n",
    "    dfb = dfb.loc[dfb['Total RWAs']>thresh]\n",
    "    return(dfb)"
   ]
  },
  {
   "cell_type": "code",
   "execution_count": 10,
   "metadata": {},
   "outputs": [
    {
     "data": {
      "text/html": [
       "<div>\n",
       "<style scoped>\n",
       "    .dataframe tbody tr th:only-of-type {\n",
       "        vertical-align: middle;\n",
       "    }\n",
       "\n",
       "    .dataframe tbody tr th {\n",
       "        vertical-align: top;\n",
       "    }\n",
       "\n",
       "    .dataframe thead th {\n",
       "        text-align: right;\n",
       "    }\n",
       "</style>\n",
       "<table border=\"1\" class=\"dataframe\">\n",
       "  <thead>\n",
       "    <tr style=\"text-align: right;\">\n",
       "      <th></th>\n",
       "      <th>Net CET1</th>\n",
       "      <th>Total RWAs</th>\n",
       "      <th>CET1_ratio</th>\n",
       "      <th>Size</th>\n",
       "    </tr>\n",
       "    <tr>\n",
       "      <th>Institution</th>\n",
       "      <th></th>\n",
       "      <th></th>\n",
       "      <th></th>\n",
       "      <th></th>\n",
       "    </tr>\n",
       "  </thead>\n",
       "  <tbody>\n",
       "    <tr>\n",
       "      <th>ANZ</th>\n",
       "      <td>9081.5</td>\n",
       "      <td>82147.0</td>\n",
       "      <td>11.055182</td>\n",
       "      <td>11.316266</td>\n",
       "    </tr>\n",
       "    <tr>\n",
       "      <th>ASB</th>\n",
       "      <td>6052.8</td>\n",
       "      <td>56608.8</td>\n",
       "      <td>10.692331</td>\n",
       "      <td>10.943920</td>\n",
       "    </tr>\n",
       "    <tr>\n",
       "      <th>BNZ</th>\n",
       "      <td>6810.1</td>\n",
       "      <td>64491.8</td>\n",
       "      <td>10.559637</td>\n",
       "      <td>11.074293</td>\n",
       "    </tr>\n",
       "    <tr>\n",
       "      <th>Westpac</th>\n",
       "      <td>6289.9</td>\n",
       "      <td>53820.0</td>\n",
       "      <td>11.686919</td>\n",
       "      <td>10.893400</td>\n",
       "    </tr>\n",
       "  </tbody>\n",
       "</table>\n",
       "</div>"
      ],
      "text/plain": [
       "             Net CET1  Total RWAs  CET1_ratio       Size\n",
       "Institution                                             \n",
       "ANZ            9081.5     82147.0   11.055182  11.316266\n",
       "ASB            6052.8     56608.8   10.692331  10.943920\n",
       "BNZ            6810.1     64491.8   10.559637  11.074293\n",
       "Westpac        6289.9     53820.0   11.686919  10.893400"
      ]
     },
     "execution_count": 10,
     "metadata": {},
     "output_type": "execute_result"
    }
   ],
   "source": [
    "dfb = bigbanks(df, 50000)\n",
    "dfb.head()"
   ]
  },
  {
   "cell_type": "code",
   "execution_count": 11,
   "metadata": {},
   "outputs": [
    {
     "data": {
      "image/png": "[encoded data removed]",
      "text/plain": [
       "<Figure size 360x360 with 1 Axes>"
      ]
     },
     "metadata": {
      "needs_background": "light"
     },
     "output_type": "display_data"
    }
   ],
   "source": [
    "def graph_big_banks(dfb):\n",
    "    #seq_col_brew = sns.color_palette(\"Blues_r\", 4)\n",
    "    #sns.set_palette(seq_col_brew)\n",
    "    ax  = sns.catplot(x = \"Institution\", y = \"CET1_ratio\", kind=\"bar\", data = dfb.reset_index())\n",
    "    nofbanks = len(dfb)\n",
    "    plt.ylim(10, 12.5)\n",
    "    plt.title('NZ Big ' + str(nofbanks)+ ' bank capitalisation')\n",
    "    plt.xlabel('Bank')\n",
    "    plt.ylabel('CET1')\n",
    "    plt.show()\n",
    "graph_big_banks(dfb)"
   ]
  },
  {
   "cell_type": "code",
   "execution_count": 12,
   "metadata": {},
   "outputs": [],
   "source": [
    "# Function to select all banks\n",
    "def all_banks(df):\n",
    "    df = df[['Net CET1', 'Total RWAs']].copy()\n",
    "    df[\"CET1_ratio\"] = df['Net CET1'].div(df['Total RWAs'])*100\n",
    "    df[\"Size\"] = np.log(df['Total RWAs'])\n",
    "    df = df.loc[df.CET1_ratio<30]\n",
    "    return(df)"
   ]
  },
  {
   "cell_type": "code",
   "execution_count": 13,
   "metadata": {},
   "outputs": [],
   "source": [
    "# Select all banks for graphs\n",
    "data = all_banks(df)"
   ]
  },
  {
   "cell_type": "code",
   "execution_count": 14,
   "metadata": {},
   "outputs": [
    {
     "data": {
      "image/png": "[encoded data removed]",
      "text/plain": [
       "<Figure size 441.625x360 with 1 Axes>"
      ]
     },
     "metadata": {},
     "output_type": "display_data"
    }
   ],
   "source": [
    "# Plot the banks' capitalisation\n",
    "def graph_bank_cap(data):\n",
    "    sns.set_style(\"whitegrid\")\n",
    "    ax = sns.lmplot(data=data.reset_index(), x=\"Size\", y=\"CET1_ratio\", hue='Institution', palette = 'bright', scatter_kws={\"s\": 60}, fit_reg=False) #\n",
    "    ax.set(xlabel='Log of Size', ylabel='NZ banks - CET1 ratio (%)')\n",
    "    plt.show()\n",
    "graph_bank_cap(data)"
   ]
  },
  {
   "cell_type": "code",
   "execution_count": 15,
   "metadata": {},
   "outputs": [
    {
     "name": "stderr",
     "output_type": "stream",
     "text": [
      "/home/martien/anaconda2/envs/py36/lib/python3.6/site-packages/scipy/stats/stats.py:1713: FutureWarning: Using a non-tuple sequence for multidimensional indexing is deprecated; use `arr[tuple(seq)]` instead of `arr[seq]`. In the future this will be interpreted as an array index, `arr[np.array(seq)]`, which will result either in an error or a different result.\n",
      "  return np.add.reduce(sorted[indexer] * weights, axis=axis) / sumval\n"
     ]
    },
    {
     "data": {
      "image/png": "[encoded data removed]",
      "text/plain": [
       "<Figure size 432x288 with 2 Axes>"
      ]
     },
     "metadata": {},
     "output_type": "display_data"
    }
   ],
   "source": [
    "# Another plot of the banks' capitalisation\n",
    "def graph_size_cap(data):\n",
    "    offset = 1\n",
    "    sns.set_style(\"whitegrid\")\n",
    "    ax = plt.scatter(data[\"Size\"],data[\"CET1_ratio\"], alpha = .8, c = data[\"CET1_ratio\"], cmap = 'jet')\n",
    "    for label, x, y in zip(data.reset_index()['Institution'], data[\"Size\"], data[\"CET1_ratio\"]):\n",
    "        plt.annotate(label, xy = (x, y), xytext = (x -10*(offset & 1), y -10 + 5*(offset & 1) ), textcoords = 'offset points')\n",
    "        offset +=1\n",
    "    cbar = plt.colorbar()\n",
    "    sns.regplot(data[\"Size\"],data[\"CET1_ratio\"], data=data, scatter=False, color=\".01\")\n",
    "    plt.xlabel('Log of Size')\n",
    "    plt.ylabel('CET1 ratio (%)')\n",
    "    plt.show()\n",
    "graph_size_cap(data)"
   ]
  }
 ],
 "metadata": {
  "kernelspec": {
   "display_name": "Python 3",
   "language": "python",
   "name": "python3"
  },
  "language_info": {
   "codemirror_mode": {
    "name": "ipython",
    "version": 3
   },
   "file_extension": ".py",
   "mimetype": "text/x-python",
   "name": "python",
   "nbconvert_exporter": "python",
   "pygments_lexer": "ipython3",
   "version": "3.6.6"
  }
 },
 "nbformat": 4,
 "nbformat_minor": 2
}
